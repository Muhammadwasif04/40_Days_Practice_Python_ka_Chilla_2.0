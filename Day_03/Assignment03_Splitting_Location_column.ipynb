{
 "cells": [
  {
   "cell_type": "markdown",
   "id": "d89279e9",
   "metadata": {},
   "source": [
    "## __Assignment__ 03\n",
    "\n",
    "### Spliting location into two parts"
   ]
  },
  {
   "cell_type": "code",
   "execution_count": 2,
   "id": "40a711b7",
   "metadata": {},
   "outputs": [
    {
     "data": {
      "text/html": [
       "<div>\n",
       "<style scoped>\n",
       "    .dataframe tbody tr th:only-of-type {\n",
       "        vertical-align: middle;\n",
       "    }\n",
       "\n",
       "    .dataframe tbody tr th {\n",
       "        vertical-align: top;\n",
       "    }\n",
       "\n",
       "    .dataframe thead th {\n",
       "        text-align: right;\n",
       "    }\n",
       "</style>\n",
       "<table border=\"1\" class=\"dataframe\">\n",
       "  <thead>\n",
       "    <tr style=\"text-align: right;\">\n",
       "      <th></th>\n",
       "      <th>Name</th>\n",
       "      <th>Location</th>\n",
       "    </tr>\n",
       "  </thead>\n",
       "  <tbody>\n",
       "    <tr>\n",
       "      <th>0</th>\n",
       "      <td>Naveed Khurshid</td>\n",
       "      <td>Lahore, Punjab</td>\n",
       "    </tr>\n",
       "    <tr>\n",
       "      <th>1</th>\n",
       "      <td>Ahsan Kamal</td>\n",
       "      <td>Hyderabad, Sindh</td>\n",
       "    </tr>\n",
       "    <tr>\n",
       "      <th>2</th>\n",
       "      <td>Muhammad Wasif</td>\n",
       "      <td>Karachi, Sindh</td>\n",
       "    </tr>\n",
       "    <tr>\n",
       "      <th>3</th>\n",
       "      <td>Muhammad Fareed</td>\n",
       "      <td>Peshawar, KPK</td>\n",
       "    </tr>\n",
       "  </tbody>\n",
       "</table>\n",
       "</div>"
      ],
      "text/plain": [
       "              Name          Location\n",
       "0  Naveed Khurshid    Lahore, Punjab\n",
       "1      Ahsan Kamal  Hyderabad, Sindh\n",
       "2   Muhammad Wasif    Karachi, Sindh\n",
       "3  Muhammad Fareed     Peshawar, KPK"
      ]
     },
     "execution_count": 2,
     "metadata": {},
     "output_type": "execute_result"
    }
   ],
   "source": [
    "# Import libraries\n",
    "import pandas as pd\n",
    "import numpy as np\n",
    "\n",
    "# Making a Dataframe\n",
    "df = pd.DataFrame({'Name': ['Naveed Khurshid', 'Ahsan Kamal','Muhammad Wasif','Muhammad Fareed'],\n",
    "                   'Location': ['Lahore, Punjab','Hyderabad, Sindh','Karachi, Sindh','Peshawar, KPK'],})\n",
    "df\n"
   ]
  },
  {
   "cell_type": "code",
   "execution_count": 5,
   "id": "79cfb0f8",
   "metadata": {},
   "outputs": [
    {
     "data": {
      "text/plain": [
       "0      [Lahore,, Punjab]\n",
       "1    [Hyderabad,, Sindh]\n",
       "2      [Karachi,, Sindh]\n",
       "3       [Peshawar,, KPK]\n",
       "Name: Location, dtype: object"
      ]
     },
     "execution_count": 5,
     "metadata": {},
     "output_type": "execute_result"
    }
   ],
   "source": [
    "# Spliting location into City and State\n",
    "df.Location.str.split(' ')"
   ]
  },
  {
   "cell_type": "code",
   "execution_count": 6,
   "id": "43cffa7e",
   "metadata": {},
   "outputs": [
    {
     "data": {
      "text/html": [
       "<div>\n",
       "<style scoped>\n",
       "    .dataframe tbody tr th:only-of-type {\n",
       "        vertical-align: middle;\n",
       "    }\n",
       "\n",
       "    .dataframe tbody tr th {\n",
       "        vertical-align: top;\n",
       "    }\n",
       "\n",
       "    .dataframe thead th {\n",
       "        text-align: right;\n",
       "    }\n",
       "</style>\n",
       "<table border=\"1\" class=\"dataframe\">\n",
       "  <thead>\n",
       "    <tr style=\"text-align: right;\">\n",
       "      <th></th>\n",
       "      <th>Name</th>\n",
       "      <th>Location</th>\n",
       "      <th>City</th>\n",
       "      <th>State</th>\n",
       "    </tr>\n",
       "  </thead>\n",
       "  <tbody>\n",
       "    <tr>\n",
       "      <th>0</th>\n",
       "      <td>Naveed Khurshid</td>\n",
       "      <td>Lahore, Punjab</td>\n",
       "      <td>Lahore</td>\n",
       "      <td>Punjab</td>\n",
       "    </tr>\n",
       "    <tr>\n",
       "      <th>1</th>\n",
       "      <td>Ahsan Kamal</td>\n",
       "      <td>Hyderabad, Sindh</td>\n",
       "      <td>Hyderabad</td>\n",
       "      <td>Sindh</td>\n",
       "    </tr>\n",
       "    <tr>\n",
       "      <th>2</th>\n",
       "      <td>Muhammad Wasif</td>\n",
       "      <td>Karachi, Sindh</td>\n",
       "      <td>Karachi</td>\n",
       "      <td>Sindh</td>\n",
       "    </tr>\n",
       "    <tr>\n",
       "      <th>3</th>\n",
       "      <td>Muhammad Fareed</td>\n",
       "      <td>Peshawar, KPK</td>\n",
       "      <td>Peshawar</td>\n",
       "      <td>KPK</td>\n",
       "    </tr>\n",
       "  </tbody>\n",
       "</table>\n",
       "</div>"
      ],
      "text/plain": [
       "              Name          Location       City    State\n",
       "0  Naveed Khurshid    Lahore, Punjab     Lahore   Punjab\n",
       "1      Ahsan Kamal  Hyderabad, Sindh  Hyderabad    Sindh\n",
       "2   Muhammad Wasif    Karachi, Sindh    Karachi    Sindh\n",
       "3  Muhammad Fareed     Peshawar, KPK   Peshawar      KPK"
      ]
     },
     "execution_count": 6,
     "metadata": {},
     "output_type": "execute_result"
    }
   ],
   "source": [
    "# Spliting Location column into City and State columns\n",
    "df['City'] = df.Location.str.split(',', expand=True)[0] # City\n",
    "df['State'] = df.Location.str.split(',', expand=True)[1] # State\n",
    "df # Checking the Dataframe"
   ]
  },
  {
   "cell_type": "code",
   "execution_count": 8,
   "id": "e1520eb0",
   "metadata": {},
   "outputs": [
    {
     "data": {
      "text/html": [
       "<div>\n",
       "<style scoped>\n",
       "    .dataframe tbody tr th:only-of-type {\n",
       "        vertical-align: middle;\n",
       "    }\n",
       "\n",
       "    .dataframe tbody tr th {\n",
       "        vertical-align: top;\n",
       "    }\n",
       "\n",
       "    .dataframe thead th {\n",
       "        text-align: right;\n",
       "    }\n",
       "</style>\n",
       "<table border=\"1\" class=\"dataframe\">\n",
       "  <thead>\n",
       "    <tr style=\"text-align: right;\">\n",
       "      <th></th>\n",
       "      <th>Name</th>\n",
       "      <th>City</th>\n",
       "      <th>State</th>\n",
       "    </tr>\n",
       "  </thead>\n",
       "  <tbody>\n",
       "    <tr>\n",
       "      <th>0</th>\n",
       "      <td>Naveed Khurshid</td>\n",
       "      <td>Lahore</td>\n",
       "      <td>Punjab</td>\n",
       "    </tr>\n",
       "    <tr>\n",
       "      <th>1</th>\n",
       "      <td>Ahsan Kamal</td>\n",
       "      <td>Hyderabad</td>\n",
       "      <td>Sindh</td>\n",
       "    </tr>\n",
       "    <tr>\n",
       "      <th>2</th>\n",
       "      <td>Muhammad Wasif</td>\n",
       "      <td>Karachi</td>\n",
       "      <td>Sindh</td>\n",
       "    </tr>\n",
       "    <tr>\n",
       "      <th>3</th>\n",
       "      <td>Muhammad Fareed</td>\n",
       "      <td>Peshawar</td>\n",
       "      <td>KPK</td>\n",
       "    </tr>\n",
       "  </tbody>\n",
       "</table>\n",
       "</div>"
      ],
      "text/plain": [
       "              Name       City    State\n",
       "0  Naveed Khurshid     Lahore   Punjab\n",
       "1      Ahsan Kamal  Hyderabad    Sindh\n",
       "2   Muhammad Wasif    Karachi    Sindh\n",
       "3  Muhammad Fareed   Peshawar      KPK"
      ]
     },
     "execution_count": 8,
     "metadata": {},
     "output_type": "execute_result"
    }
   ],
   "source": [
    "# droping location column\n",
    "df.drop('Location', axis=1,inplace=True)\n",
    "df"
   ]
  }
 ],
 "metadata": {
  "kernelspec": {
   "display_name": "Python 3 (ipykernel)",
   "language": "python",
   "name": "python3"
  },
  "language_info": {
   "codemirror_mode": {
    "name": "ipython",
    "version": 3
   },
   "file_extension": ".py",
   "mimetype": "text/x-python",
   "name": "python",
   "nbconvert_exporter": "python",
   "pygments_lexer": "ipython3",
   "version": "3.9.7"
  }
 },
 "nbformat": 4,
 "nbformat_minor": 5
}
