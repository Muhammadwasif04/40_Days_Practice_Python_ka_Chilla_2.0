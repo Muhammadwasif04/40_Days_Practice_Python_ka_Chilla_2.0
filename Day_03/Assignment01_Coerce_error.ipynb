{
 "cells": [
  {
   "cell_type": "markdown",
   "id": "662e8292",
   "metadata": {},
   "source": [
    "# Assignment 01\n",
    "### __Coerce__\n",
    "\n",
    "#### There are three different errors occurs when changing numeric data type through pandas which is;\n",
    "1_ __Raise__: Setting _errors='raise'_ is the default and will generate an error on something like [1,2,'apple'].\n",
    "\n",
    "2_ __Ignore__: Setting _errors='ignore'_ means the problem values will not convert at all.\n",
    "\n",
    "#### 3_ __Coerce__: Setting _errors='coerce'_ will force the column to float and problem values to NaN."
   ]
  }
 ],
 "metadata": {
  "kernelspec": {
   "display_name": "Python 3 (ipykernel)",
   "language": "python",
   "name": "python3"
  },
  "language_info": {
   "codemirror_mode": {
    "name": "ipython",
    "version": 3
   },
   "file_extension": ".py",
   "mimetype": "text/x-python",
   "name": "python",
   "nbconvert_exporter": "python",
   "pygments_lexer": "ipython3",
   "version": "3.9.7"
  }
 },
 "nbformat": 4,
 "nbformat_minor": 5
}
